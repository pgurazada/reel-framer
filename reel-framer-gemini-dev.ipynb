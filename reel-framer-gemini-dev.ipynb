{
 "cells": [
  {
   "cell_type": "code",
   "execution_count": 1,
   "metadata": {},
   "outputs": [],
   "source": [
    "import vertexai\n",
    "import json\n",
    "import yaml\n",
    "\n",
    "from vertexai.preview.generative_models import GenerativeModel"
   ]
  },
  {
   "cell_type": "code",
   "execution_count": 2,
   "metadata": {},
   "outputs": [],
   "source": [
    "vertexai.init(project=\"generative-ai-teaching\", location=\"us-central1\")"
   ]
  },
  {
   "cell_type": "code",
   "execution_count": 3,
   "metadata": {},
   "outputs": [],
   "source": [
    "model = GenerativeModel(\"gemini-pro\")"
   ]
  },
  {
   "cell_type": "code",
   "execution_count": 22,
   "metadata": {},
   "outputs": [],
   "source": [
    "output_generation_config={\n",
    "    \"temperature\": 0.6,\n",
    "    \"max_output_tokens\": 8192,\n",
    "    \"top_p\": 0.95\n",
    "}"
   ]
  },
  {
   "cell_type": "markdown",
   "metadata": {},
   "source": [
    "# Step 1: Extract News"
   ]
  },
  {
   "cell_type": "code",
   "execution_count": 4,
   "metadata": {},
   "outputs": [],
   "source": [
    "news_extractor_system_prompt = \"\"\"\n",
    "You are tasked to extract key information from news articles.\n",
    "You will be presented a news article that begins with ###News Article.\n",
    "\n",
    "Instructions:\n",
    "Extract the following items from the news article in the input in the following YAML format:\n",
    "news setting: \n",
    "news characters and their main activities: \n",
    "news plot summary: \n",
    "news information points:  \n",
    "news plot elements: \n",
    "\n",
    "To reiterate, your answer should be in the YAML format specified above.\n",
    "\"\"\""
   ]
  },
  {
   "cell_type": "code",
   "execution_count": 5,
   "metadata": {},
   "outputs": [],
   "source": [
    "news_extractor_user_message = \"\"\"###News Article \\n{news_article}\"\"\""
   ]
  },
  {
   "cell_type": "code",
   "execution_count": 6,
   "metadata": {},
   "outputs": [],
   "source": [
    "news_article_input = \"\"\"\n",
    "The US Food and Drug Administration (USFDA) last week approved two breakthrough gene therapies — Casgevy by Vertex Pharmaceuticals and CRISPR Therapeutics, and Lyfgenia by Bluebird Bio — for sickle cell disease (SCD) in patients 12 years and older.\n",
    "\n",
    "The development marks a milestone medical advancement in treating a debilitating disease that primarily affects red blood cells’ capacity to carry adequate oxygen across the body, with the use of innovative cell-based gene therapies.\n",
    "Both approved products are made from patients’ own blood stem cells, which are modified, and are given back as a one-time, single-dose infusion as part of a hematopoietic (blood) stem cell transplant.\n",
    "\n",
    "Casgevy utilises CRISPR/Cas9 (Clustered Regularly Interspaced Short Palindromic Repeats-CRISPR associated) technology, a type of genome editing system.\n",
    "Emmanuelle Charpentier and Jennifer Doudna were awarded the Nobel Prize in Chemistry in 2020 for discovering CRISPR/Cas9 genetic scissors, called one of the gene technology’s sharpest tools.\n",
    "\n",
    "In India, which has the highest number of SCD carriers in the world, scientists associated with the Council for Scientific and Industrial Research-Institute of Genomics and Integrative Biology (CSIR-IGIB) have been working since 2018 to develop a gene therapy for SCD using the same technology.\n",
    "\n",
    "“After showing proof of the therapy developed in human-induced pluripotent stem cells (a particular potent type of stem cell that normally only exists during early embryonic development), we are now in preclinical stage of the therapy’s trial,” Debojyoti Chakraborty, lead scientist of the project at CSIR-IGIB, told ThePrint.\n",
    "\n",
    "The next step after the animal study, he said, is to start a phase-1 clinical trial for SCD patients in India, in partnership with the All India Institute of Medical Sciences (AIIMS) in Delhi and the department of science and technology after regulatory approvals for the therapy are in place.\n",
    "Once available in the country, the therapy can be a boon for millions of SCD patients in India which this year saw the launch of the National Sickle Cell Anaemia Elimination Mission — targeting to eliminate the disease by 2047.\n",
    "\"\"\""
   ]
  },
  {
   "cell_type": "code",
   "execution_count": 7,
   "metadata": {},
   "outputs": [],
   "source": [
    "prompt_for_news_extraction = (\n",
    "        news_extractor_system_prompt + \n",
    "        news_extractor_user_message.format(\n",
    "                news_article=news_article_input\n",
    "        )\n",
    ")"
   ]
  },
  {
   "cell_type": "code",
   "execution_count": 24,
   "metadata": {},
   "outputs": [],
   "source": [
    "response = model.generate_content(\n",
    "    prompt_for_news_extraction,\n",
    "    generation_config=output_generation_config\n",
    ")"
   ]
  },
  {
   "cell_type": "code",
   "execution_count": 25,
   "metadata": {},
   "outputs": [
    {
     "name": "stdout",
     "output_type": "stream",
     "text": [
      "news setting: \n",
      "- US Food and Drug Administration (USFDA)\n",
      "- Vertex Pharmaceuticals and CRISPR Therapeutics\n",
      "- Bluebird Bio\n",
      "- India (highest number of SCD carriers in the world)\n",
      "- Council for Scientific and Industrial Research-Institute of Genomics and Integrative Biology (CSIR-IGIB)\n",
      "- All India Institute of Medical Sciences (AIIMS) in Delhi\n",
      "- Department of Science and Technology\n",
      "- India's National Sickle Cell Anaemia Elimination Mission\n",
      "\n",
      "news characters and their main activities: \n",
      "- USFDA: Approved two breakthrough gene therapies for sickle cell disease (SCD)\n",
      "- Vertex Pharmaceuticals and CRISPR Therapeutics: Developed Casgevy, a gene therapy for SCD using CRISPR/Cas9 technology\n",
      "- Bluebird Bio: Developed Lyfgenia, another gene therapy for SCD\n",
      "- Debojyoti Chakraborty: Lead scientist of the SCD gene therapy project at CSIR-IGIB\n",
      "- Scientists at CSIR-IGIB: Working to develop a gene therapy for SCD using CRISPR/Cas9 technology\n",
      "\n",
      "news plot summary: \n",
      "- USFDA approved two gene therapies, Casgevy and Lyfgenia, for sickle cell disease (SCD) in patients 12 years and older\n",
      "- Both therapies use patients’ own blood stem cells, which are modified and given back as a one-time, single-dose infusion as part of a hematopoietic stem cell transplant\n",
      "- In India, scientists at CSIR-IGIB are working on developing a gene therapy for SCD using the same technology\n",
      "- The therapy is in the preclinical stage of trials and is expected to start phase-1 clinical trials in India in partnership with AIIMS and the department of science and technology\n",
      "\n",
      "news information points: \n",
      "- Casgevy and Lyfgenia are the first gene therapies approved by the USFDA for sickle cell disease\n",
      "- The therapies use CRISPR/Cas9 technology, which allows for precise editing of the genome\n",
      "- SCD is a debilitating disease that affects red blood cells’ capacity to carry adequate oxygen across the body\n",
      "- India has the highest number of SCD carriers in the world\n",
      "- Scientists at CSIR-IGIB are working to develop a gene therapy for SCD using CRISPR/Cas9 technology\n",
      "- The therapy is expected to start phase-1 clinical trials in India in partnership with AIIMS and the department of science and technology\n",
      "- India's National Sickle Cell Anaemia Elimination Mission aims to eliminate the disease by 2047\n",
      "\n",
      "news plot elements: \n",
      "- Conflict: Sickle cell disease is a debilitating disease that affects millions of people worldwide\n",
      "- Resolution: The development of gene therapies offers hope for a cure for SCD\n",
      "- Setting: The news article discusses the development of gene therapies for SCD in the US and India\n",
      "- Characters: The key characters in the article are the USFDA, Vertex Pharmaceuticals, CRISPR Therapeutics, Bluebird Bio, and scientists at CSIR-IGIB\n",
      "- Theme: The theme of the article is the potential of gene therapy to cure sickle cell disease\n"
     ]
    }
   ],
   "source": [
    "print(response.text)"
   ]
  },
  {
   "cell_type": "code",
   "execution_count": 26,
   "metadata": {},
   "outputs": [],
   "source": [
    "news_extraction_output = yaml.safe_load(response.text)"
   ]
  },
  {
   "cell_type": "code",
   "execution_count": 27,
   "metadata": {},
   "outputs": [
    {
     "data": {
      "text/plain": [
       "dict_keys(['news setting', 'news characters and their main activities', 'news plot summary', 'news information points', 'news plot elements'])"
      ]
     },
     "execution_count": 27,
     "metadata": {},
     "output_type": "execute_result"
    }
   ],
   "source": [
    "news_extraction_output.keys()"
   ]
  },
  {
   "cell_type": "markdown",
   "metadata": {},
   "source": [
    "# Step 2: Create Comedic Analogy"
   ]
  },
  {
   "cell_type": "code",
   "execution_count": 37,
   "metadata": {},
   "outputs": [],
   "source": [
    "comedic_analogy_prompt_template = \"\"\"\n",
    "You are tasked to create three comedic analogies based on key information extracted from a news article.\n",
    "Do not create any offensive or harmful content.\n",
    "1. List three unique comedic analogies for the situation in the following story:\n",
    "{news_plot_summary}. Incorporate the following characters only: {news_characters_and_their_main_activities}.\n",
    "2. Decide the main characters of the news event as two of the most dominant characters in the summary: {news_plot_summary}\n",
    "3. To act out this analogous premise use the location mentioned here: {news_setting}\n",
    "\n",
    "Return three analogies in the following YAML format:\n",
    "comedic analogy 1: <first analogy>,\n",
    "comedic analogy 2: <second analogy>,\n",
    "comedic analogy 3: <third analogy>\n",
    "Do not return any other output except this YAML.\n",
    "\"\"\""
   ]
  },
  {
   "cell_type": "code",
   "execution_count": 38,
   "metadata": {},
   "outputs": [],
   "source": [
    "prompt_for_comedic_analogy = comedic_analogy_prompt_template.format(\n",
    "    news_plot_summary=news_extraction_output['news plot summary'],\n",
    "    news_characters_and_their_main_activities=news_extraction_output['news characters and their main activities'],\n",
    "    news_setting=news_extraction_output['news setting']\n",
    ")"
   ]
  },
  {
   "cell_type": "code",
   "execution_count": 39,
   "metadata": {},
   "outputs": [
    {
     "name": "stdout",
     "output_type": "stream",
     "text": [
      "\n",
      "You are tasked to create three comedic analogies based on key information extracted from a news article.\n",
      "Do not create any offensive or harmful content.\n",
      "1. List three unique comedic analogies for the situation in the following story:\n",
      "['USFDA approved two gene therapies, Casgevy and Lyfgenia, for sickle cell disease (SCD) in patients 12 years and older', 'Both therapies use patients’ own blood stem cells, which are modified and given back as a one-time, single-dose infusion as part of a hematopoietic stem cell transplant', 'In India, scientists at CSIR-IGIB are working on developing a gene therapy for SCD using the same technology', 'The therapy is in the preclinical stage of trials and is expected to start phase-1 clinical trials in India in partnership with AIIMS and the department of science and technology']. Incorporate the following characters only: [{'USFDA': 'Approved two breakthrough gene therapies for sickle cell disease (SCD)'}, {'Vertex Pharmaceuticals and CRISPR Therapeutics': 'Developed Casgevy, a gene therapy for SCD using CRISPR/Cas9 technology'}, {'Bluebird Bio': 'Developed Lyfgenia, another gene therapy for SCD'}, {'Debojyoti Chakraborty': 'Lead scientist of the SCD gene therapy project at CSIR-IGIB'}, {'Scientists at CSIR-IGIB': 'Working to develop a gene therapy for SCD using CRISPR/Cas9 technology'}].\n",
      "2. Decide the main characters of the news event as two of the most dominant characters in the summary: ['USFDA approved two gene therapies, Casgevy and Lyfgenia, for sickle cell disease (SCD) in patients 12 years and older', 'Both therapies use patients’ own blood stem cells, which are modified and given back as a one-time, single-dose infusion as part of a hematopoietic stem cell transplant', 'In India, scientists at CSIR-IGIB are working on developing a gene therapy for SCD using the same technology', 'The therapy is in the preclinical stage of trials and is expected to start phase-1 clinical trials in India in partnership with AIIMS and the department of science and technology']\n",
      "3. To act out this analogous premise use the location mentioned here: ['US Food and Drug Administration (USFDA)', 'Vertex Pharmaceuticals and CRISPR Therapeutics', 'Bluebird Bio', 'India (highest number of SCD carriers in the world)', 'Council for Scientific and Industrial Research-Institute of Genomics and Integrative Biology (CSIR-IGIB)', 'All India Institute of Medical Sciences (AIIMS) in Delhi', 'Department of Science and Technology', \"India's National Sickle Cell Anaemia Elimination Mission\"]\n",
      "\n",
      "Return three analogies in the following YAML format:\n",
      "comedic analogy 1: <first analogy>,\n",
      "comedic analogy 2: <second analogy>,\n",
      "comedic analogy 3: <third analogy>\n",
      "Do not return any other output except this YAML.\n",
      "\n"
     ]
    }
   ],
   "source": [
    "print(prompt_for_comedic_analogy)"
   ]
  },
  {
   "cell_type": "code",
   "execution_count": 40,
   "metadata": {},
   "outputs": [],
   "source": [
    "response = model.generate_content(\n",
    "    prompt_for_comedic_analogy,\n",
    "    generation_config=output_generation_config\n",
    ")"
   ]
  },
  {
   "cell_type": "code",
   "execution_count": 42,
   "metadata": {},
   "outputs": [
    {
     "name": "stdout",
     "output_type": "stream",
     "text": [
      "comedic analogy 1: The USFDA approving two gene therapies for sickle cell disease is like a superhero team-up between CRISPR Therapeutics and Bluebird Bio, saving the day for patients worldwide.\n",
      "comedic analogy 2: Debojyoti Chakraborty and the scientists at CSIR-IGIB are like culinary masters, cooking up a gene therapy for sickle cell disease using the CRISPR/Cas9 technology as their secret ingredient.\n",
      "comedic analogy 3: The race to develop a cure for sickle cell disease is like a friendly competition between the US and India, with the USFDA and CSIR-IGIB leading the charge like rival sports teams battling it out on the field of medical innovation.\n"
     ]
    }
   ],
   "source": [
    "print(response.text)"
   ]
  },
  {
   "cell_type": "code",
   "execution_count": 43,
   "metadata": {},
   "outputs": [],
   "source": [
    "comedic_analogies = yaml.safe_load(response.text)"
   ]
  },
  {
   "cell_type": "code",
   "execution_count": 44,
   "metadata": {},
   "outputs": [
    {
     "data": {
      "text/plain": [
       "dict_keys(['comedic analogy 1', 'comedic analogy 2', 'comedic analogy 3'])"
      ]
     },
     "execution_count": 44,
     "metadata": {},
     "output_type": "execute_result"
    }
   ],
   "source": [
    "comedic_analogies.keys()"
   ]
  },
  {
   "cell_type": "markdown",
   "metadata": {},
   "source": [
    "# Step 3: Create Script"
   ]
  },
  {
   "cell_type": "code",
   "execution_count": 46,
   "metadata": {},
   "outputs": [],
   "source": [
    "comedic_script_prompt_template = \"\"\"\n",
    "You are tasked to create a comedic skit.\n",
    "Write a script for a comedy skit about: {script_plot}. Cover the following information: {news_information_points}.\n",
    "The characters should be exactly: {news_characters_and_their_main_activities}.\n",
    "It should be set in {news_setting}. It should be entertaining.\n",
    "The dialogue should be colloquial and engaging. The dialogue should be 10 to 12 lines long.\n",
    "Each line of dialogue should be short - less than 20 words. End it with a punchline.\n",
    "\"\"\""
   ]
  },
  {
   "cell_type": "code",
   "execution_count": 49,
   "metadata": {},
   "outputs": [],
   "source": [
    "prompt_for_comedic_script = comedic_script_prompt_template.format(\n",
    "    script_plot=comedic_analogies['comedic analogy 1'],\n",
    "    news_information_points=news_extraction_output['news information points'],\n",
    "    news_characters_and_their_main_activities=news_extraction_output['news characters and their main activities'],\n",
    "    news_setting=news_extraction_output['news setting']\n",
    ")"
   ]
  },
  {
   "cell_type": "code",
   "execution_count": 51,
   "metadata": {},
   "outputs": [],
   "source": [
    "response = model.generate_content(\n",
    "    prompt_for_comedic_script,\n",
    "    generation_config=output_generation_config\n",
    ")"
   ]
  },
  {
   "cell_type": "code",
   "execution_count": 54,
   "metadata": {},
   "outputs": [],
   "source": [
    "comedic_script = response.text"
   ]
  },
  {
   "cell_type": "code",
   "execution_count": 55,
   "metadata": {},
   "outputs": [],
   "source": [
    "output_file_name = 'gemini-pro_comedic-script.txt'"
   ]
  },
  {
   "cell_type": "code",
   "execution_count": 56,
   "metadata": {},
   "outputs": [],
   "source": [
    "with open(output_file_name, 'w') as f:\n",
    "    f.writelines(comedic_script)"
   ]
  }
 ],
 "metadata": {
  "kernelspec": {
   "display_name": "clouddev",
   "language": "python",
   "name": "python3"
  },
  "language_info": {
   "codemirror_mode": {
    "name": "ipython",
    "version": 3
   },
   "file_extension": ".py",
   "mimetype": "text/x-python",
   "name": "python",
   "nbconvert_exporter": "python",
   "pygments_lexer": "ipython3",
   "version": "3.9.2"
  }
 },
 "nbformat": 4,
 "nbformat_minor": 2
}
