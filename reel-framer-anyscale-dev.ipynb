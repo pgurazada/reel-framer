{
 "cells": [
  {
   "cell_type": "code",
   "execution_count": 58,
   "metadata": {},
   "outputs": [],
   "source": [
    "import json\n",
    "import requests"
   ]
  },
  {
   "cell_type": "code",
   "execution_count": 26,
   "metadata": {},
   "outputs": [],
   "source": [
    "with open('anyscale-creds.json', 'r') as as_creds:\n",
    "    data = as_creds.read()"
   ]
  },
  {
   "cell_type": "code",
   "execution_count": 27,
   "metadata": {},
   "outputs": [],
   "source": [
    "creds = json.loads(data)\n",
    "\n",
    "api_base = \"https://api.endpoints.anyscale.com/v1\"\n",
    "api_key = creds[\"anyscale_api_key\"]\n",
    "url = f\"{api_base}/chat/completions\""
   ]
  },
  {
   "cell_type": "code",
   "execution_count": 28,
   "metadata": {},
   "outputs": [],
   "source": [
    "model_name = \"meta-llama/Llama-2-70b-chat-hf\""
   ]
  },
  {
   "cell_type": "code",
   "execution_count": 29,
   "metadata": {},
   "outputs": [],
   "source": [
    "s = requests.Session()"
   ]
  },
  {
   "cell_type": "markdown",
   "metadata": {},
   "source": [
    "# Step 1: Extract News"
   ]
  },
  {
   "cell_type": "code",
   "execution_count": 30,
   "metadata": {},
   "outputs": [],
   "source": [
    "news_extractor_system_message = \"\"\"\n",
    "You are tasked to extract key information from news articles.\n",
    "You will be presented a news article that begins with ###News Article.\n",
    "\n",
    "Instructions:\n",
    "Extract the following items from the news article in the input in a JSON format:\n",
    "{\n",
    "    news setting: <Where did this news event take place?>,\n",
    "    news characters and their main activities: <List names of up to five main \\\n",
    "stakeholders in this news event and what they mainly did.>\n",
    "    news plot summary: <What happened in the news event?>\n",
    "    news information points: <What are the three most important things in this news story?>\n",
    "    news plot elements: <What are the four main plot points of the news story?>\n",
    "}\n",
    "To reiterate, your answer should be in the JSON format specified above.\n",
    "\"\"\""
   ]
  },
  {
   "cell_type": "code",
   "execution_count": 31,
   "metadata": {},
   "outputs": [],
   "source": [
    "news_user_message_template = \"\"\"###News Article \\n{news_article}\"\"\""
   ]
  },
  {
   "cell_type": "code",
   "execution_count": 32,
   "metadata": {},
   "outputs": [],
   "source": [
    "news_article_input = \"\"\"\n",
    "The US Food and Drug Administration (USFDA) last week approved two breakthrough gene therapies — Casgevy by Vertex Pharmaceuticals and CRISPR Therapeutics, and Lyfgenia by Bluebird Bio — for sickle cell disease (SCD) in patients 12 years and older.\n",
    "\n",
    "The development marks a milestone medical advancement in treating a debilitating disease that primarily affects red blood cells’ capacity to carry adequate oxygen across the body, with the use of innovative cell-based gene therapies.\n",
    "Both approved products are made from patients’ own blood stem cells, which are modified, and are given back as a one-time, single-dose infusion as part of a hematopoietic (blood) stem cell transplant.\n",
    "\n",
    "Casgevy utilises CRISPR/Cas9 (Clustered Regularly Interspaced Short Palindromic Repeats-CRISPR associated) technology, a type of genome editing system.\n",
    "Emmanuelle Charpentier and Jennifer Doudna were awarded the Nobel Prize in Chemistry in 2020 for discovering CRISPR/Cas9 genetic scissors, called one of the gene technology’s sharpest tools.\n",
    "\n",
    "In India, which has the highest number of SCD carriers in the world, scientists associated with the Council for Scientific and Industrial Research-Institute of Genomics and Integrative Biology (CSIR-IGIB) have been working since 2018 to develop a gene therapy for SCD using the same technology.\n",
    "\n",
    "“After showing proof of the therapy developed in human-induced pluripotent stem cells (a particular potent type of stem cell that normally only exists during early embryonic development), we are now in preclinical stage of the therapy’s trial,” Debojyoti Chakraborty, lead scientist of the project at CSIR-IGIB, told ThePrint.\n",
    "\n",
    "The next step after the animal study, he said, is to start a phase-1 clinical trial for SCD patients in India, in partnership with the All India Institute of Medical Sciences (AIIMS) in Delhi and the department of science and technology after regulatory approvals for the therapy are in place.\n",
    "Once available in the country, the therapy can be a boon for millions of SCD patients in India which this year saw the launch of the National Sickle Cell Anaemia Elimination Mission — targeting to eliminate the disease by 2047.\n",
    "\"\"\""
   ]
  },
  {
   "cell_type": "code",
   "execution_count": 33,
   "metadata": {},
   "outputs": [],
   "source": [
    "prompt_for_news_extraction = [\n",
    "    {\"role\": \"system\", \"content\": news_extractor_system_message},\n",
    "    {\"role\": \"user\", \"content\": news_user_message_template.format(\n",
    "        news_article=news_article_input\n",
    "        )\n",
    "    }\n",
    "]"
   ]
  },
  {
   "cell_type": "code",
   "execution_count": 34,
   "metadata": {},
   "outputs": [],
   "source": [
    "news_extraction_payload = {\n",
    "  \"model\": model_name,\n",
    "  \"messages\": prompt_for_news_extraction,\n",
    "  \"temperature\": 0,\n",
    "  \"max_tokens\": 8192\n",
    "}"
   ]
  },
  {
   "cell_type": "code",
   "execution_count": 36,
   "metadata": {},
   "outputs": [],
   "source": [
    "with s.post(url, headers={\"Authorization\": f\"Bearer {api_key}\"}, json=news_extraction_payload) as resp:\n",
    "    news_extraction_output = json.loads(resp.json()['choices'][0]['message']['content'])"
   ]
  },
  {
   "cell_type": "markdown",
   "metadata": {},
   "source": [
    "# Step 2: Create Comedic Analogy"
   ]
  },
  {
   "cell_type": "code",
   "execution_count": 47,
   "metadata": {},
   "outputs": [],
   "source": [
    "comedic_analogy_prompt_template = \"\"\"\n",
    "1. List three unique comedic analogies for the situation in the following story:\n",
    "{news_plot_summary}. Incorporate the following characters only: {news_characters_and_their_main_activities}.\n",
    "2. Decide the main characters of the news event as two of the most dominant characters in the summary: {news_plot_summary}\n",
    "3. To act out this analogous premise use the location mentioned here: {news_setting}\n",
    "\n",
    "Return your output as a JSON with the three analogies as keys like so:\n",
    "- comedic analogy 1: <first analogy>,\n",
    "- comedic analogy 2: <second analogy>,\n",
    "- comedic analogy 3: <third analogy>\n",
    "Do not return any other output except this JSON.\n",
    "\"\"\""
   ]
  },
  {
   "cell_type": "code",
   "execution_count": 48,
   "metadata": {},
   "outputs": [],
   "source": [
    "user_prompt_for_comedic_analogy = comedic_analogy_prompt_template.format(\n",
    "    news_plot_summary=news_extraction_output['news plot summary'],\n",
    "    news_characters_and_their_main_activities=news_extraction_output['news characters and their main activities'],\n",
    "    news_setting=news_extraction_output['news setting']\n",
    ")"
   ]
  },
  {
   "cell_type": "code",
   "execution_count": 49,
   "metadata": {},
   "outputs": [],
   "source": [
    "prompt_for_comedic_analogy = [\n",
    "    {\n",
    "        \"role\": \"system\", \n",
    "        \"content\": \"You are tasked to create three comedic analogies based on key information extracted from a news article.\"\n",
    "    },\n",
    "    {\n",
    "        \"role\": \"user\", \n",
    "        \"content\": user_prompt_for_comedic_analogy\n",
    "    }\n",
    "]"
   ]
  },
  {
   "cell_type": "code",
   "execution_count": 50,
   "metadata": {},
   "outputs": [],
   "source": [
    "comedic_analogy_payload = {\n",
    "  \"model\": model_name,\n",
    "  \"messages\": prompt_for_comedic_analogy,\n",
    "  \"temperature\": 0,\n",
    "  \"max_tokens\": 8192\n",
    "}"
   ]
  },
  {
   "cell_type": "code",
   "execution_count": 51,
   "metadata": {},
   "outputs": [],
   "source": [
    "with s.post(url, headers={\"Authorization\": f\"Bearer {api_key}\"}, json=comedic_analogy_payload) as resp:\n",
    "    comedic_analogies = resp.json()[\"choices\"][0][\"message\"][\"content\"]"
   ]
  },
  {
   "cell_type": "code",
   "execution_count": 66,
   "metadata": {},
   "outputs": [],
   "source": [
    "comedic_analogies = json.loads(comedic_analogies+'}')"
   ]
  },
  {
   "cell_type": "markdown",
   "metadata": {},
   "source": [
    "# Step 3: Create Script"
   ]
  },
  {
   "cell_type": "code",
   "execution_count": 64,
   "metadata": {},
   "outputs": [],
   "source": [
    "comedic_script_prompt_template = \"\"\"\n",
    "Write a script for a comedy skit about: {script_plot}. Cover the following information: {news_information_points}.\n",
    "The characters should be exactly: {news_characters_and_their_main_activities}.\n",
    "It should be set in {news_setting}. It should be entertaining.\n",
    "The dialogue should be colloquial and engaging. The dialogue should be 10 to 12 lines long.\n",
    "Each line of dialogue should be short - less than 20 words. End it with a punchline.\n",
    "\"\"\""
   ]
  },
  {
   "cell_type": "code",
   "execution_count": 67,
   "metadata": {},
   "outputs": [],
   "source": [
    "user_prompt_for_comedic_script = comedic_script_prompt_template.format(\n",
    "    script_plot=comedic_analogies['comedic analogy 1'],\n",
    "    news_information_points=news_extraction_output['news information points'],\n",
    "    news_characters_and_their_main_activities=news_extraction_output['news characters and their main activities'],\n",
    "    news_setting=news_extraction_output['news setting']\n",
    ")"
   ]
  },
  {
   "cell_type": "code",
   "execution_count": 68,
   "metadata": {},
   "outputs": [],
   "source": [
    "prompt_for_comedic_script = [\n",
    "    {\n",
    "        \"role\": \"system\", \n",
    "        \"content\": \"You are tasked to create a comedic skit.\"\n",
    "    },\n",
    "    {\n",
    "        \"role\": \"user\", \n",
    "        \"content\": user_prompt_for_comedic_script\n",
    "    }\n",
    "]"
   ]
  },
  {
   "cell_type": "code",
   "execution_count": 69,
   "metadata": {},
   "outputs": [],
   "source": [
    "comedic_script_payload = {\n",
    "  \"model\": model_name,\n",
    "  \"messages\": prompt_for_comedic_script,\n",
    "  \"temperature\": 0,\n",
    "  \"max_tokens\": 8192\n",
    "}"
   ]
  },
  {
   "cell_type": "code",
   "execution_count": 70,
   "metadata": {},
   "outputs": [],
   "source": [
    "with s.post(url, headers={\"Authorization\": f\"Bearer {api_key}\"}, json=comedic_script_payload) as resp:\n",
    "    comedic_script = resp.json()['choices'][0]['message']['content']"
   ]
  },
  {
   "cell_type": "code",
   "execution_count": 72,
   "metadata": {},
   "outputs": [],
   "source": [
    "output_file_name = model_name.replace('/', '-') + '_comedic-script.txt'"
   ]
  },
  {
   "cell_type": "code",
   "execution_count": 74,
   "metadata": {},
   "outputs": [],
   "source": [
    "with open(output_file_name, 'w') as f:\n",
    "    f.writelines(comedic_script)"
   ]
  }
 ],
 "metadata": {
  "kernelspec": {
   "display_name": "clouddev",
   "language": "python",
   "name": "python3"
  },
  "language_info": {
   "codemirror_mode": {
    "name": "ipython",
    "version": 3
   },
   "file_extension": ".py",
   "mimetype": "text/x-python",
   "name": "python",
   "nbconvert_exporter": "python",
   "pygments_lexer": "ipython3",
   "version": "3.9.17"
  }
 },
 "nbformat": 4,
 "nbformat_minor": 2
}
